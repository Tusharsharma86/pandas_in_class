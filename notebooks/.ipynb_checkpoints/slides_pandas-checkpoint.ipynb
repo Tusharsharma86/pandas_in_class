{
 "cells": [
  {
   "cell_type": "markdown",
   "metadata": {
    "slideshow": {
     "slide_type": "slide"
    }
   },
   "source": [
    "# Data Manipulation with pandas"
   ]
  },
  {
   "cell_type": "markdown",
   "metadata": {
    "slideshow": {
     "slide_type": "subslide"
    }
   },
   "source": [
    "<img src=\"../images/python_pandas.jpg\" alt=\"Python\" style=\"width: 400px;\"/>"
   ]
  },
  {
   "cell_type": "markdown",
   "metadata": {
    "slideshow": {
     "slide_type": "slide"
    }
   },
   "source": [
    "# Program so far \n",
    "***\n",
    "- Python Basics\n",
    "- Python Programming Constructs\n",
    "- Data Structures\n",
    "- Functions\n",
    "- Object Oriented Programming in Python\n",
    "- NumPy\n",
    "- Pandas"
   ]
  },
  {
   "cell_type": "markdown",
   "metadata": {
    "slideshow": {
     "slide_type": "slide"
    }
   },
   "source": [
    "# What are we going to learn today?\n",
    "***\n",
    "- DataFrame Basics\n",
    "- Reading Data into DataFrame\n",
    "- Data Manipulation and Transformations\n",
    "- Pivot Tables and Group By\n",
    "- Merging Data"
   ]
  },
  {
   "cell_type": "markdown",
   "metadata": {
    "slideshow": {
     "slide_type": "slide"
    }
   },
   "source": [
    "\n",
    "# DataFrame Basics\n",
    "***\n",
    "We'll talk about\n",
    "- Creating DataFrames\n",
    "- Shape and Rank\n",
    "- Reading DataFrames from File\n",
    "- Index"
   ]
  },
  {
   "cell_type": "markdown",
   "metadata": {
    "slideshow": {
     "slide_type": "subslide"
    }
   },
   "source": [
    "<img src=\"../images/icon/Technical-Stuff.png\" alt=\"Concept-Alert\" style=\"width: 100px;float:left; margin-right:15px\"/>\n",
    "<br /> \n",
    "## How do I create DataFrames?\n",
    "***\n",
    "DataFrames can be created from lists, or read from files"
   ]
  },
  {
   "cell_type": "markdown",
   "metadata": {
    "slideshow": {
     "slide_type": "subslide"
    }
   },
   "source": [
    "<div class=\"alert alert-block alert-success\">**Creating DataFrames manually**</div>"
   ]
  },
  {
   "cell_type": "code",
   "execution_count": null,
   "metadata": {
    "ExecuteTime": {
     "end_time": "2017-09-25T09:11:16.357395Z",
     "start_time": "2017-09-25T09:11:11.644455Z"
    },
    "slideshow": {
     "slide_type": "fragment"
    }
   },
   "outputs": [],
   "source": [
    "import pandas as pd\n",
    "import numpy as np\n",
    "\n",
    "df = pd.DataFrame([[1, 2, 3],\n",
    "                   [3, 4, 5],\n",
    "                   [5, 6, 7],\n",
    "                   [7, 8, 9]])\n",
    "df"
   ]
  },
  {
   "cell_type": "code",
   "execution_count": null,
   "metadata": {
    "ExecuteTime": {
     "end_time": "2017-09-23T06:16:35.242361Z",
     "start_time": "2017-09-23T06:16:35.212742Z"
    },
    "slideshow": {
     "slide_type": "subslide"
    }
   },
   "outputs": [],
   "source": [
    "df = pd.DataFrame([[1, 2, 3], [3, 4, 5], [5, 6, 7], [7, 8, 9]])\n",
    "\n",
    "print(\"Shape:\", df.shape)\n",
    "print(\"Index:\", df.index)\n",
    "\n",
    "df"
   ]
  },
  {
   "cell_type": "markdown",
   "metadata": {
    "slideshow": {
     "slide_type": "subslide"
    }
   },
   "source": [
    "<div class=\"alert alert-block alert-success\">**Understanding the Index**</div>"
   ]
  },
  {
   "cell_type": "code",
   "execution_count": null,
   "metadata": {
    "ExecuteTime": {
     "end_time": "2017-09-23T07:08:51.531243Z",
     "start_time": "2017-09-23T07:08:51.510432Z"
    },
    "slideshow": {
     "slide_type": "fragment"
    }
   },
   "outputs": [],
   "source": [
    "df2 = pd.DataFrame([[1, 2, 3], [3, 4, 5], [5, 6, 7], [7, 8, 9]], index=['a', 'b', 'c', 'd'], columns=['x', 'y', 'z'])\n",
    "\n",
    "print(\"Shape:\", df.shape)\n",
    "print(\"Index:\", df.index)\n",
    "\n",
    "df2"
   ]
  },
  {
   "cell_type": "markdown",
   "metadata": {
    "slideshow": {
     "slide_type": "subslide"
    }
   },
   "source": [
    "<div class=\"alert alert-block alert-success\">**Creating DataFrames manually: Hierarchical Index**</div>\n"
   ]
  },
  {
   "cell_type": "code",
   "execution_count": null,
   "metadata": {
    "ExecuteTime": {
     "end_time": "2017-09-23T06:36:37.572838Z",
     "start_time": "2017-09-23T06:36:37.548841Z"
    },
    "scrolled": true,
    "slideshow": {
     "slide_type": "fragment"
    }
   },
   "outputs": [],
   "source": [
    "outside = ['G1']*3 + ['G2']*3  # G1 repeated thrice, then G2 repeated thrice\n",
    "inside = [1, 2, 3, 1, 2, 3]  # 1,2,3 repeated twice\n",
    "\n",
    "hier_index = list(zip(outside,inside))\n",
    "print(hier_index)\n",
    "\n",
    "hier_index = pd.MultiIndex.from_tuples(hier_index)\n",
    "print(hier_index)\n",
    "\n",
    "hier_df = pd.DataFrame(np.random.randn(6,2), index=hier_index, columns=['A','B'])"
   ]
  },
  {
   "cell_type": "code",
   "execution_count": null,
   "metadata": {
    "ExecuteTime": {
     "end_time": "2017-09-23T06:36:46.217265Z",
     "start_time": "2017-09-23T06:36:46.171985Z"
    },
    "slideshow": {
     "slide_type": "subslide"
    }
   },
   "outputs": [],
   "source": [
    "print(\"Shape:\", hier_df.shape)\n",
    "print(\"Index:\", hier_df.index)\n",
    "\n",
    "hier_df"
   ]
  },
  {
   "cell_type": "markdown",
   "metadata": {
    "slideshow": {
     "slide_type": "subslide"
    }
   },
   "source": [
    "# The Weather Dataset: Reading DataFrames from Files\n",
    "***\n",
    "The Weather Dataset is a time-series data set with per-hour information about the weather conditions at a particular location. It records Temperature, Dew Point Temperature, Relative Humidity, Wind Speed, Visibility, Pressure, and Conditions.\n",
    "\n",
    "<img src=\"../images/weather.jpg\" alt=\"Weather\" style=\"width: 200px;\"/>\n",
    "\n",
    "This data is available as a CSV file. We are going to analyze this data set using the Pandas DataFrame."
   ]
  },
  {
   "cell_type": "code",
   "execution_count": null,
   "metadata": {
    "ExecuteTime": {
     "end_time": "2017-09-25T09:11:22.400390Z",
     "start_time": "2017-09-25T09:11:22.342923Z"
    },
    "slideshow": {
     "slide_type": "subslide"
    }
   },
   "outputs": [],
   "source": [
    "# Read the data into a data frame\n",
    "\n",
    "weather_df = pd.read_csv(\"../data/weather_2012.csv\")\n",
    "\n",
    "print(\"Shape:\", weather_df.shape)\n",
    "print(\"Index:\", weather_df.index)"
   ]
  },
  {
   "cell_type": "markdown",
   "metadata": {
    "slideshow": {
     "slide_type": "slide"
    }
   },
   "source": [
    "<img src=\"../images/icon/Technical-Stuff.png\" alt=\"Concept-Alert\" style=\"width: 100px;float:left; margin-right:15px\"/>\n",
    "<br /> \n",
    "# How to Analyze DataFrames?\n",
    "***"
   ]
  },
  {
   "cell_type": "markdown",
   "metadata": {
    "slideshow": {
     "slide_type": "subslide"
    }
   },
   "source": [
    "## `.info()`\n",
    "***\n",
    "Provides basic information about the dataframe: rows, columns, types (if automatically detected)"
   ]
  },
  {
   "cell_type": "code",
   "execution_count": null,
   "metadata": {
    "ExecuteTime": {
     "end_time": "2017-09-22T12:33:47.789590Z",
     "start_time": "2017-09-22T12:33:47.775863Z"
    },
    "slideshow": {
     "slide_type": "fragment"
    }
   },
   "outputs": [],
   "source": [
    "weather_df.info()"
   ]
  },
  {
   "cell_type": "markdown",
   "metadata": {
    "slideshow": {
     "slide_type": "subslide"
    }
   },
   "source": [
    "## `.head()`\n",
    "***\n",
    "Similar to the linux `head` command. Shows the first N rows in the data (by default, N=5)."
   ]
  },
  {
   "cell_type": "code",
   "execution_count": null,
   "metadata": {
    "ExecuteTime": {
     "end_time": "2017-09-22T12:54:51.722869Z",
     "start_time": "2017-09-22T12:54:51.701607Z"
    },
    "slideshow": {
     "slide_type": "fragment"
    }
   },
   "outputs": [],
   "source": [
    "weather_df.head(5)"
   ]
  },
  {
   "cell_type": "markdown",
   "metadata": {
    "slideshow": {
     "slide_type": "subslide"
    }
   },
   "source": [
    "## `.index`\n",
    "***\n",
    "This attribute provides the `index` of the dataframe"
   ]
  },
  {
   "cell_type": "code",
   "execution_count": null,
   "metadata": {
    "ExecuteTime": {
     "end_time": "2017-09-22T12:53:38.858279Z",
     "start_time": "2017-09-22T12:53:38.841642Z"
    },
    "slideshow": {
     "slide_type": "fragment"
    }
   },
   "outputs": [],
   "source": [
    "weather_df.index"
   ]
  },
  {
   "cell_type": "markdown",
   "metadata": {
    "slideshow": {
     "slide_type": "subslide"
    }
   },
   "source": [
    "## `.unique()`\n",
    "***\n",
    "This method, which belongs to the `Series` object, can be useful when trying to identify unique values in a column"
   ]
  },
  {
   "cell_type": "code",
   "execution_count": null,
   "metadata": {
    "ExecuteTime": {
     "end_time": "2017-09-22T12:54:51.722869Z",
     "start_time": "2017-09-22T12:54:51.701607Z"
    },
    "slideshow": {
     "slide_type": "fragment"
    }
   },
   "outputs": [],
   "source": [
    "weather_df['Weather'].unique()"
   ]
  },
  {
   "cell_type": "markdown",
   "metadata": {
    "ExecuteTime": {
     "end_time": "2017-09-22T12:41:32.876489Z",
     "start_time": "2017-09-22T12:41:32.860307Z"
    },
    "slideshow": {
     "slide_type": "subslide"
    }
   },
   "source": [
    "<div class=\"alert alert-block alert-info\">**Find all the unique Wind Speed values recorded in the dataset**</div>"
   ]
  },
  {
   "cell_type": "code",
   "execution_count": null,
   "metadata": {
    "ExecuteTime": {
     "end_time": "2017-09-22T13:28:59.183183Z",
     "start_time": "2017-09-22T13:28:59.177614Z"
    },
    "slideshow": {
     "slide_type": "fragment"
    }
   },
   "outputs": [],
   "source": [
    "# Code your solution here\n",
    "weather_df['Wind Spd (km/h)'].unique()"
   ]
  },
  {
   "cell_type": "markdown",
   "metadata": {
    "slideshow": {
     "slide_type": "subslide"
    }
   },
   "source": [
    "## `.nunique()`\n",
    "***\n",
    "This method, which belongs to the `Series` object, can be useful when trying to identify the number of unique values in a column"
   ]
  },
  {
   "cell_type": "code",
   "execution_count": null,
   "metadata": {
    "ExecuteTime": {
     "end_time": "2017-09-22T12:40:02.074693Z",
     "start_time": "2017-09-22T12:40:02.056956Z"
    },
    "slideshow": {
     "slide_type": "fragment"
    }
   },
   "outputs": [],
   "source": [
    "weather_df['Weather'].nunique()"
   ]
  },
  {
   "cell_type": "markdown",
   "metadata": {
    "slideshow": {
     "slide_type": "subslide"
    }
   },
   "source": [
    "## `.value_counts()`\n",
    "***\n",
    "This method, which belongs to the `Series` object, can be useful when trying to identify unique values and their counts in a column"
   ]
  },
  {
   "cell_type": "code",
   "execution_count": null,
   "metadata": {
    "ExecuteTime": {
     "end_time": "2017-09-22T12:54:51.722869Z",
     "start_time": "2017-09-22T12:54:51.701607Z"
    },
    "slideshow": {
     "slide_type": "fragment"
    }
   },
   "outputs": [],
   "source": [
    "weather_df['Weather'].value_counts()"
   ]
  },
  {
   "cell_type": "markdown",
   "metadata": {
    "ExecuteTime": {
     "end_time": "2017-09-22T12:41:32.876489Z",
     "start_time": "2017-09-22T12:41:32.860307Z"
    },
    "slideshow": {
     "slide_type": "subslide"
    }
   },
   "source": [
    "<div class=\"alert alert-block alert-info\">**Find the number of times when the weather was exactly 'Clear'**</div>"
   ]
  },
  {
   "cell_type": "code",
   "execution_count": null,
   "metadata": {
    "ExecuteTime": {
     "end_time": "2017-09-22T12:50:14.384725Z",
     "start_time": "2017-09-22T12:50:14.374665Z"
    },
    "slideshow": {
     "slide_type": "fragment"
    }
   },
   "outputs": [],
   "source": [
    "value_counts = weather_df['Weather'].value_counts()\n",
    "print(type(value_counts))\n",
    "\n",
    "# How can we get the count for Clear ?"
   ]
  },
  {
   "cell_type": "markdown",
   "metadata": {
    "ExecuteTime": {
     "end_time": "2017-09-22T12:41:32.876489Z",
     "start_time": "2017-09-22T12:41:32.860307Z"
    },
    "slideshow": {
     "slide_type": "subslide"
    }
   },
   "source": [
    "<div class=\"alert alert-block alert-info\">**Find the number of times when the wind speed was exactly 4 km/h**</div>"
   ]
  },
  {
   "cell_type": "code",
   "execution_count": null,
   "metadata": {
    "ExecuteTime": {
     "end_time": "2017-09-22T13:28:59.183183Z",
     "start_time": "2017-09-22T13:28:59.177614Z"
    },
    "slideshow": {
     "slide_type": "fragment"
    }
   },
   "outputs": [],
   "source": [
    "# Your solution here\n",
    "\n",
    "weather_df['Wind Spd (km/h)'].value_counts()[4]"
   ]
  },
  {
   "cell_type": "markdown",
   "metadata": {
    "slideshow": {
     "slide_type": "slide"
    }
   },
   "source": [
    "<img src=\"../images/icon/Concept-Alert.png\" alt=\"Concept-Alert\" style=\"width: 100px;float:left; margin-right:15px\"/>\n",
    "<br /> \n",
    "\n",
    "# Data Manipulation : Gets you desired results\n",
    "***\n",
    "The true power of the Pandas DataFrame is the ease and flexibility of manipulating data to get your desired results."
   ]
  },
  {
   "cell_type": "markdown",
   "metadata": {
    "slideshow": {
     "slide_type": "subslide"
    }
   },
   "source": [
    "## Selection (Part 1)\n",
    "***\n",
    "How do you select particular rows/columns from the DataFrame ?\n",
    "\n",
    "The DataFrame object supports indexing operations just like the Python `list` class and the Pandas Series object, but much more powerful."
   ]
  },
  {
   "cell_type": "markdown",
   "metadata": {
    "ExecuteTime": {
     "end_time": "2017-09-22T12:41:32.876489Z",
     "start_time": "2017-09-22T12:41:32.860307Z"
    },
    "slideshow": {
     "slide_type": "subslide"
    }
   },
   "source": [
    "<div class=\"alert alert-block alert-info\">**Get the Weather column in the `weather_df` dataframe**</div>"
   ]
  },
  {
   "cell_type": "code",
   "execution_count": null,
   "metadata": {
    "ExecuteTime": {
     "end_time": "2017-09-23T06:49:35.103934Z",
     "start_time": "2017-09-23T06:49:35.091266Z"
    },
    "slideshow": {
     "slide_type": "fragment"
    }
   },
   "outputs": [],
   "source": [
    "col = weather_df[['Weather', 'Temp (C)']]\n",
    "\n",
    "print(type(col))\n",
    "# col.head()"
   ]
  },
  {
   "cell_type": "markdown",
   "metadata": {
    "ExecuteTime": {
     "end_time": "2017-09-22T12:41:32.876489Z",
     "start_time": "2017-09-22T12:41:32.860307Z"
    },
    "slideshow": {
     "slide_type": "subslide"
    }
   },
   "source": [
    "<div class=\"alert alert-block alert-info\">**Get the Weather and Temperature columns from the `weather_df` dataframe**</div>"
   ]
  },
  {
   "cell_type": "code",
   "execution_count": null,
   "metadata": {
    "ExecuteTime": {
     "end_time": "2017-09-23T06:47:30.322888Z",
     "start_time": "2017-09-23T06:47:30.306861Z"
    },
    "slideshow": {
     "slide_type": "fragment"
    }
   },
   "outputs": [],
   "source": [
    "two_cols = weather_df[['Weather', 'Temp (C)']]\n",
    "\n",
    "print(type(two_cols))\n",
    "# two_cols.head()"
   ]
  },
  {
   "cell_type": "markdown",
   "metadata": {
    "ExecuteTime": {
     "end_time": "2017-09-22T12:41:32.876489Z",
     "start_time": "2017-09-22T12:41:32.860307Z"
    },
    "slideshow": {
     "slide_type": "subslide"
    }
   },
   "source": [
    "<div class=\"alert alert-block alert-info\">**Get the first 25 rows from the `weather_df` dataframe**</div>\n",
    "***\n",
    "**Important**: This slicing would work even if the row index had non-numeric labels, because slicing works here the same way as a list"
   ]
  },
  {
   "cell_type": "code",
   "execution_count": null,
   "metadata": {
    "ExecuteTime": {
     "end_time": "2017-09-23T06:51:32.341235Z",
     "start_time": "2017-09-23T06:51:32.290327Z"
    },
    "slideshow": {
     "slide_type": "fragment"
    }
   },
   "outputs": [],
   "source": [
    "weather_df[:25].head()"
   ]
  },
  {
   "cell_type": "markdown",
   "metadata": {
    "ExecuteTime": {
     "end_time": "2017-09-22T12:41:32.876489Z",
     "start_time": "2017-09-22T12:41:32.860307Z"
    },
    "slideshow": {
     "slide_type": "subslide"
    }
   },
   "source": [
    "<div class=\"alert alert-block alert-info\">**Get the first 3 alternating rows from the `weather_df` dataframe, but only the Visibility and Relative Humidity columns**</div>"
   ]
  },
  {
   "cell_type": "code",
   "execution_count": null,
   "metadata": {
    "slideshow": {
     "slide_type": "fragment"
    }
   },
   "outputs": [],
   "source": [
    "# solution 1\n",
    "result1 = weather_df[:6:2][['Rel Hum (%)', 'Visibility (km)']]\n",
    "\n",
    "# solution 2\n",
    "result2 = weather_df[['Rel Hum (%)', 'Visibility (km)']][:6:2]\n",
    "\n",
    "# are they the same?\n",
    "result1 == result2"
   ]
  },
  {
   "cell_type": "markdown",
   "metadata": {
    "ExecuteTime": {
     "end_time": "2017-09-22T12:41:32.876489Z",
     "start_time": "2017-09-22T12:41:32.860307Z"
    },
    "slideshow": {
     "slide_type": "fragment"
    }
   },
   "source": [
    "#### So which of the two solutions should you use?"
   ]
  },
  {
   "cell_type": "markdown",
   "metadata": {
    "slideshow": {
     "slide_type": "subslide"
    }
   },
   "source": [
    "**Answer**: Neither. Because we're indexing more than once (Chained Indexing)\n",
    "\n",
    "Let's analyse (break down) one of the above solutions."
   ]
  },
  {
   "cell_type": "code",
   "execution_count": null,
   "metadata": {
    "collapsed": true,
    "slideshow": {
     "slide_type": "fragment"
    }
   },
   "outputs": [],
   "source": [
    "# first indexing\n",
    "df1 = weather_df[:6:2]\n",
    "\n",
    "# second indexing\n",
    "df2 = df1[['Rel Hum (%)', 'Visibility (km)']]"
   ]
  },
  {
   "cell_type": "markdown",
   "metadata": {
    "ExecuteTime": {
     "end_time": "2017-09-22T12:41:32.876489Z",
     "start_time": "2017-09-22T12:41:32.860307Z"
    },
    "slideshow": {
     "slide_type": "fragment"
    }
   },
   "source": [
    "While both results are correct in this **read-only** case, chained indexing may give unpredictable behaviours when **writing** to a dataframe.\n",
    "\n",
    "This is because indexing could either return a \"view\" (of slices of the dataframe), or a copy of the dataframe."
   ]
  },
  {
   "cell_type": "markdown",
   "metadata": {
    "ExecuteTime": {
     "end_time": "2017-09-22T12:41:32.876489Z",
     "start_time": "2017-09-22T12:41:32.860307Z"
    },
    "slideshow": {
     "slide_type": "subslide"
    }
   },
   "source": [
    "## Selection (Part 2)\n",
    "***\n",
    "Pandas provides a powerful way to work with both rows and columns together, optionally using their label indices or numeric indices.\n",
    "\n",
    "- **`.loc :`**<br/>\n",
    "Purely label-location based indexer for selection by label (but may also be used with a boolean array).<br/>\n",
    "**Important: If you use slicing in loc, it will return the end index as well**\n",
    "<br/><br/>\n",
    "\n",
    "- **`.iloc:`**<br/>\n",
    "Purely integer-location based indexing for selection by position (but may also be used with a boolean array)."
   ]
  },
  {
   "cell_type": "markdown",
   "metadata": {
    "ExecuteTime": {
     "end_time": "2017-09-22T12:41:32.876489Z",
     "start_time": "2017-09-22T12:41:32.860307Z"
    },
    "slideshow": {
     "slide_type": "subslide"
    }
   },
   "source": [
    "<div class=\"alert alert-block alert-info\">**Get the first 3 alternating rows from the `weather_df` dataframe, but only the Visibility and Relative Humidity columns**</div>"
   ]
  },
  {
   "cell_type": "code",
   "execution_count": null,
   "metadata": {
    "slideshow": {
     "slide_type": "fragment"
    }
   },
   "outputs": [],
   "source": [
    "# Using loc\n",
    "# NOTE: slice is `:5:2`, not 6 !\n",
    "weather_df.loc[:5:2, ['Rel Hum (%)', 'Visibility (km)']]"
   ]
  },
  {
   "cell_type": "code",
   "execution_count": null,
   "metadata": {
    "slideshow": {
     "slide_type": "fragment"
    }
   },
   "outputs": [],
   "source": [
    "# Using iloc\n",
    "weather_df.iloc[:6:2, [3,5]]"
   ]
  },
  {
   "cell_type": "markdown",
   "metadata": {
    "slideshow": {
     "slide_type": "slide"
    }
   },
   "source": [
    "### Upgrading the Weather DataFrame\n",
    "***\n",
    "We've been working with the weather dataframe with integer row indices. But the data is essentially time-series data. Can we do better?"
   ]
  },
  {
   "cell_type": "code",
   "execution_count": null,
   "metadata": {
    "slideshow": {
     "slide_type": "fragment"
    }
   },
   "outputs": [],
   "source": [
    "weather_df2 = pd.read_csv('../data/weather_2012.csv', parse_dates=True, index_col='Date/Time')\n",
    "weather_df2.head()"
   ]
  },
  {
   "cell_type": "code",
   "execution_count": null,
   "metadata": {
    "slideshow": {
     "slide_type": "subslide"
    }
   },
   "outputs": [],
   "source": [
    "weather_df2 = pd.read_csv('../data/weather_2012.csv', parse_dates=True, index_col='Date/Time')\n",
    "weather_df2.info()"
   ]
  },
  {
   "cell_type": "markdown",
   "metadata": {
    "ExecuteTime": {
     "end_time": "2017-09-22T12:41:32.876489Z",
     "start_time": "2017-09-22T12:41:32.860307Z"
    },
    "slideshow": {
     "slide_type": "subslide"
    }
   },
   "source": [
    "### What were the first 5 pressure values recorded on Jan 6 ?"
   ]
  },
  {
   "cell_type": "code",
   "execution_count": null,
   "metadata": {
    "slideshow": {
     "slide_type": "fragment"
    }
   },
   "outputs": [],
   "source": [
    "weather_df2.loc['2012-01-06', 'Stn Press (kPa)'][:5]"
   ]
  },
  {
   "cell_type": "markdown",
   "metadata": {
    "slideshow": {
     "slide_type": "slide"
    }
   },
   "source": [
    "<img src=\"../images/icon/Concept-Alert.png\" alt=\"Concept-Alert\" style=\"width: 100px;float:left; margin-right:15px\"/>\n",
    "<br /> \n",
    "\n",
    "## Filtering\n",
    "***\n",
    "![Filter](../images/filters1.jpg)\n",
    "\n",
    "Anything that takes in data, processes it, and provides an output\n",
    "\n",
    "Input Data ⟶ Filter ⟶ Output Data"
   ]
  },
  {
   "cell_type": "markdown",
   "metadata": {
    "ExecuteTime": {
     "end_time": "2017-09-22T12:41:32.876489Z",
     "start_time": "2017-09-22T12:41:32.860307Z"
    },
    "slideshow": {
     "slide_type": "subslide"
    }
   },
   "source": [
    "### Find all instances when snow was recorded\n",
    "***\n",
    "Whether or not it snowed can be found out using the Weather column"
   ]
  },
  {
   "cell_type": "code",
   "execution_count": null,
   "metadata": {
    "slideshow": {
     "slide_type": "fragment"
    }
   },
   "outputs": [],
   "source": [
    "weather_df2['Weather'].unique()"
   ]
  },
  {
   "cell_type": "code",
   "execution_count": null,
   "metadata": {
    "slideshow": {
     "slide_type": "subslide"
    }
   },
   "outputs": [],
   "source": [
    "# Basically, we want a way to \"filter out\" records that don't have the word \"snow\" (case insensitive) in the last column\n",
    "\n",
    "snowed_filter = weather_df2['Weather'].str.lower().str.contains('snow')\n",
    "weather_df2[snowed_filter]"
   ]
  },
  {
   "cell_type": "markdown",
   "metadata": {
    "ExecuteTime": {
     "end_time": "2017-09-22T12:41:32.876489Z",
     "start_time": "2017-09-22T12:41:32.860307Z"
    },
    "slideshow": {
     "slide_type": "subslide"
    }
   },
   "source": [
    "<div class=\"alert alert-block alert-info\">**Find all instances when wind speed was above 24 and visibility was 25**</div>"
   ]
  },
  {
   "cell_type": "code",
   "execution_count": null,
   "metadata": {
    "slideshow": {
     "slide_type": "fragment"
    }
   },
   "outputs": [],
   "source": [
    "df = weather_df2[(weather_df2['Wind Spd (km/h)'] > 24) & (weather_df2['Visibility (km)']== 25)]\n",
    "df.head()"
   ]
  },
  {
   "cell_type": "markdown",
   "metadata": {
    "collapsed": true,
    "slideshow": {
     "slide_type": "subslide"
    }
   },
   "source": [
    "## Summary / Cheatsheet: Selection/Indexing/Filtering\n",
    "***\n",
    "This is a handy reminder for what syntax will get what result.\n",
    "\n",
    "Syntax | Function | Remarks\n",
    ":--- | :--- | :---\n",
    "**`df['some_label']`** |  Get the (single) Column referenced by name `some_label` | A **str** is provided\n",
    "**`df[['label1', 'label2']]`** | Get multiple columns referenced by given names | A **list** is provided \n",
    "**`df[('label1', 'label2')]`** | Get a single Column referenced by the hierarchical column index | A **tuple** is provided\n",
    "**`df[start:end:step]`** | Get corresponding rows (same as list slicing) | A **slicing operator**<br/> is provided\n",
    "**`df[boolean array/df]`** | Get corresponding rows (same as list slicing) | A **filter object** is provided\n",
    "**`df.loc [row_sel, col_sel]`** | Select specified rows and columns (by labels) | \n",
    "**`df.iloc[row_sel, col_sel]`** | Select specified rows and columns (by index) | \n"
   ]
  },
  {
   "cell_type": "markdown",
   "metadata": {
    "slideshow": {
     "slide_type": "subslide"
    }
   },
   "source": [
    "<img src=\"../images/icon/Concept-Alert.png\" alt=\"Concept-Alert\" style=\"width: 100px;float:left; margin-right:15px\"/>\n",
    "<br /> \n",
    "\n",
    "## Working with Columns\n",
    "***\n",
    "- Series operations\n",
    "- Adding/Updating Columns\n",
    "- Renaming Columns\n",
    "- Deleting Columns"
   ]
  },
  {
   "cell_type": "markdown",
   "metadata": {
    "slideshow": {
     "slide_type": "subslide"
    }
   },
   "source": [
    "### Series Operations"
   ]
  },
  {
   "cell_type": "code",
   "execution_count": null,
   "metadata": {
    "slideshow": {
     "slide_type": "fragment"
    }
   },
   "outputs": [],
   "source": [
    "add_10 = weather_df2[\"Wind Spd (km/h)\"] + 10\n",
    "add_10.head()"
   ]
  },
  {
   "cell_type": "code",
   "execution_count": null,
   "metadata": {
    "slideshow": {
     "slide_type": "subslide"
    }
   },
   "outputs": [],
   "source": [
    "mult_2 = weather_df2['Visibility (km)'] * 2\n",
    "mult_2.head()"
   ]
  },
  {
   "cell_type": "code",
   "execution_count": null,
   "metadata": {
    "slideshow": {
     "slide_type": "fragment"
    }
   },
   "outputs": [],
   "source": [
    "temperature = weather_df2[\"Temp (C)\"] + weather_df2[\"Dew Point Temp (C)\"]\n",
    "temperature.head()"
   ]
  },
  {
   "cell_type": "markdown",
   "metadata": {
    "slideshow": {
     "slide_type": "subslide"
    }
   },
   "source": [
    "### Apply / Call Functions"
   ]
  },
  {
   "cell_type": "code",
   "execution_count": null,
   "metadata": {
    "slideshow": {
     "slide_type": "fragment"
    }
   },
   "outputs": [],
   "source": [
    "weather_df2['Visibility (km)'].describe()"
   ]
  },
  {
   "cell_type": "code",
   "execution_count": null,
   "metadata": {
    "slideshow": {
     "slide_type": "fragment"
    }
   },
   "outputs": [],
   "source": [
    "weather_df2['Visibility (km)'].min()"
   ]
  },
  {
   "cell_type": "code",
   "execution_count": null,
   "metadata": {
    "slideshow": {
     "slide_type": "subslide"
    }
   },
   "outputs": [],
   "source": [
    "# Applying custom functions\n",
    "\n",
    "def times2(value):\n",
    "    return value * 2\n",
    "\n",
    "t2 = weather_df2['Visibility (km)'].apply(times2)\n",
    "t2.head()"
   ]
  },
  {
   "cell_type": "markdown",
   "metadata": {
    "slideshow": {
     "slide_type": "subslide"
    }
   },
   "source": [
    "### Adding/Updating Columns"
   ]
  },
  {
   "cell_type": "code",
   "execution_count": null,
   "metadata": {
    "slideshow": {
     "slide_type": "fragment"
    }
   },
   "outputs": [],
   "source": [
    "visibility_in_meter = weather_df2[\"Visibility (km)\"] * 1000  \n",
    "weather_df2[\"Visibility (m)\"] = visibility_in_meter\n",
    "\n",
    "weather_df2.head()"
   ]
  },
  {
   "cell_type": "markdown",
   "metadata": {
    "slideshow": {
     "slide_type": "subslide"
    }
   },
   "source": [
    "### Renaming Columns"
   ]
  },
  {
   "cell_type": "code",
   "execution_count": null,
   "metadata": {
    "slideshow": {
     "slide_type": "fragment"
    }
   },
   "outputs": [],
   "source": [
    "# Notice the \"inplace=True\" parameter !\n",
    "\n",
    "weather_df2.rename(columns={'Visibility (m)': 'Visibility (meters)'}, inplace=True)\n",
    "weather_df2.head()"
   ]
  },
  {
   "cell_type": "markdown",
   "metadata": {
    "slideshow": {
     "slide_type": "subslide"
    }
   },
   "source": [
    "### Deleting Columns"
   ]
  },
  {
   "cell_type": "code",
   "execution_count": null,
   "metadata": {
    "slideshow": {
     "slide_type": "fragment"
    }
   },
   "outputs": [],
   "source": [
    "# Since we have not mentioned inplace=True, it returns a new dataframe\n",
    "weather_df2.drop(labels=['Visibility (meters)'], axis=1).head(3)"
   ]
  },
  {
   "cell_type": "code",
   "execution_count": null,
   "metadata": {
    "collapsed": true,
    "slideshow": {
     "slide_type": "fragment"
    }
   },
   "outputs": [],
   "source": [
    "# Alternatively, you can also write\n",
    "# del weather_df2['Visibility (meters)']"
   ]
  },
  {
   "cell_type": "markdown",
   "metadata": {
    "slideshow": {
     "slide_type": "slide"
    }
   },
   "source": [
    "<img src=\"../images/icon/Technical-Stuff.png\" alt=\"Concept-Alert\" style=\"width: 100px;float:left; margin-right:15px\"/>\n",
    "<br /> \n",
    "## Sorting\n",
    "***"
   ]
  },
  {
   "cell_type": "code",
   "execution_count": null,
   "metadata": {
    "slideshow": {
     "slide_type": "fragment"
    }
   },
   "outputs": [],
   "source": [
    "sorted_by_temp = weather_df2.sort_values('Temp (C)', ascending=False)  # can be inplace as well\n",
    "sorted_by_temp.head()"
   ]
  },
  {
   "cell_type": "markdown",
   "metadata": {
    "ExecuteTime": {
     "end_time": "2017-09-22T12:41:32.876489Z",
     "start_time": "2017-09-22T12:41:32.860307Z"
    },
    "slideshow": {
     "slide_type": "subslide"
    }
   },
   "source": [
    "### Which were the top 10 hottest values and their counts?"
   ]
  },
  {
   "cell_type": "code",
   "execution_count": null,
   "metadata": {
    "slideshow": {
     "slide_type": "fragment"
    }
   },
   "outputs": [],
   "source": [
    "sorted_value_counts = weather_df2['Temp (C)'].value_counts().sort_values(ascending=False)\n",
    "sorted_value_counts.iloc[:10]"
   ]
  },
  {
   "cell_type": "markdown",
   "metadata": {
    "ExecuteTime": {
     "end_time": "2017-09-22T12:41:32.876489Z",
     "start_time": "2017-09-22T12:41:32.860307Z"
    },
    "slideshow": {
     "slide_type": "subslide"
    }
   },
   "source": [
    "### What is the mean temperature recorded by month?"
   ]
  },
  {
   "cell_type": "code",
   "execution_count": null,
   "metadata": {
    "slideshow": {
     "slide_type": "fragment"
    }
   },
   "outputs": [],
   "source": [
    "# One Solution\n",
    "mean_temperatures = {}\n",
    "\n",
    "for month in range(1, 13):\n",
    "    mean_temperatures[month] = weather_df2.loc[weather_df2.index.month == month, 'Temp (C)'].mean()\n",
    "\n",
    "pd.Series(mean_temperatures)"
   ]
  },
  {
   "cell_type": "markdown",
   "metadata": {
    "slideshow": {
     "slide_type": "slide"
    }
   },
   "source": [
    "<img src=\"../images/icon/Technical-Stuff.png\" alt=\"Concept-Alert\" style=\"width: 100px;float:left; margin-right:15px\"/>\n",
    "<br /> \n",
    "\n",
    "# Pivot Tables : Excellent way to Summarize your Data!\n",
    "***\n",
    "- A pivot table is a tool that allows you to reorganize and summarize selected columns and rows of data in a dataframe <br/><br/>\n",
    "\n",
    "- Pivot tables provide an easy way to subset by one column and then apply a calculation like a sum or a mean <br/><br/>\n",
    "\n",
    "- Pivot tables first group and then apply a calculation"
   ]
  },
  {
   "cell_type": "code",
   "execution_count": null,
   "metadata": {
    "slideshow": {
     "slide_type": "subslide"
    }
   },
   "outputs": [],
   "source": [
    "data = {\n",
    "    'A': ['foo','foo','foo','bar','bar','bar'],\n",
    "    'B': ['one','one','two','two','one','one'],\n",
    "    'C': ['x','y','x','y','x','y'],\n",
    "    'D': [1, 3, 2, 5, 4, 1]\n",
    "}\n",
    "\n",
    "df = pd.DataFrame(data)\n",
    "df"
   ]
  },
  {
   "cell_type": "code",
   "execution_count": null,
   "metadata": {
    "scrolled": true,
    "slideshow": {
     "slide_type": "subslide"
    }
   },
   "outputs": [],
   "source": [
    "pivot_df = df.pivot_table(\n",
    "                values='D',      # We want to aggregate the values of which column?\n",
    "                index='A',       # We want to use which column as the new index?\n",
    "                columns=['C'],   # We want to use the values of which column as the new columns? (optional)\n",
    "                aggfunc=np.sum)  # What aggregation function to use ?\n",
    "\n",
    "# Notice that the result is a hierarchical index\n",
    "pivot_df"
   ]
  },
  {
   "cell_type": "code",
   "execution_count": null,
   "metadata": {
    "scrolled": true,
    "slideshow": {
     "slide_type": "subslide"
    }
   },
   "outputs": [],
   "source": [
    "# convert it back to a simple index\n",
    "\n",
    "pivot_df.reset_index()"
   ]
  },
  {
   "cell_type": "markdown",
   "metadata": {
    "ExecuteTime": {
     "end_time": "2017-09-22T12:41:32.876489Z",
     "start_time": "2017-09-22T12:41:32.860307Z"
    },
    "slideshow": {
     "slide_type": "subslide"
    }
   },
   "source": [
    "### What is the mean temperature recorded by month?"
   ]
  },
  {
   "cell_type": "code",
   "execution_count": null,
   "metadata": {
    "scrolled": true,
    "slideshow": {
     "slide_type": "fragment"
    }
   },
   "outputs": [],
   "source": [
    "mean_temperature_df = weather_df2.pivot_table(values='Temp (C)', index=weather_df2.index.month, aggfunc=np.mean)\n",
    "mean_temperature_df"
   ]
  },
  {
   "cell_type": "markdown",
   "metadata": {
    "slideshow": {
     "slide_type": "slide"
    }
   },
   "source": [
    "<img src=\"../images/icon/Technical-Stuff.png\" alt=\"Concept-Alert\" style=\"width: 100px;float:left; margin-right:15px\"/>\n",
    "<br /> \n",
    "\n",
    "# Group By\n",
    "***\n",
    "The groupby method allows you to group rows of data together and call aggregate functions"
   ]
  },
  {
   "cell_type": "code",
   "execution_count": null,
   "metadata": {
    "slideshow": {
     "slide_type": "subslide"
    }
   },
   "outputs": [],
   "source": [
    "mean_temperature_df2 = weather_df2.groupby(weather_df2.index.month).aggregate(np.mean).reset_index()\n",
    "mean_temperature_df2"
   ]
  },
  {
   "cell_type": "markdown",
   "metadata": {
    "slideshow": {
     "slide_type": "slide"
    }
   },
   "source": [
    "<img src=\"../images/icon/Technical-Stuff.png\" alt=\"Concept-Alert\" style=\"width: 100px;float:left; margin-right:15px\"/>\n",
    "<br /> \n",
    "# Concat, Merge and Join (1/2)\n",
    "<br/>\n",
    "***\n",
    "There are 3 key ways of combining DataFrames together:\n",
    "\n",
    "- **Concatenation**: Concatenation basically glues together DataFrames. Keep in mind that dimensions should match along the axis you are concatenating on <br/><br/>\n",
    "- **Merging**: The merge function allows you to merge DataFrames together using a similar logic as merging SQL Tables together<br/><br/>"
   ]
  },
  {
   "cell_type": "markdown",
   "metadata": {
    "slideshow": {
     "slide_type": "subslide"
    }
   },
   "source": [
    "<img src=\"../images/icon/Technical-Stuff.png\" alt=\"Concept-Alert\" style=\"width: 100px;float:left; margin-right:15px\"/>\n",
    "<br /> \n",
    "# Concat, Merge and Join (2/2)\n",
    "***\n",
    "- **Join**: Join is a convenient method for combining the columns of two potentially differently-indexed DataFrames into a single result DataFrame"
   ]
  },
  {
   "cell_type": "markdown",
   "metadata": {
    "slideshow": {
     "slide_type": "subslide"
    }
   },
   "source": [
    "## Concat"
   ]
  },
  {
   "cell_type": "code",
   "execution_count": null,
   "metadata": {
    "collapsed": true,
    "slideshow": {
     "slide_type": "fragment"
    }
   },
   "outputs": [],
   "source": [
    "df1 = pd.DataFrame({\n",
    "    'A': ['A0', 'A1', 'A2', 'A3'],\n",
    "    'B': ['B0', 'B1', 'B2', 'B3'],\n",
    "    'C': ['C0', 'C1', 'C2', 'C3'],\n",
    "    'D': ['D0', 'D1', 'D2', 'D3']\n",
    "}, index=[0, 1, 2, 3])\n",
    "\n",
    "df2 = pd.DataFrame({\n",
    "    'A': ['A4', 'A5', 'A6', 'A7'],\n",
    "    'B': ['B4', 'B5', 'B6', 'B7'],\n",
    "    'C': ['C4', 'C5', 'C6', 'C7'],\n",
    "    'D': ['D4', 'D5', 'D6', 'D7']\n",
    "}, index=[4, 5, 6, 7])\n",
    "\n",
    "df3 = pd.DataFrame({\n",
    "    'A': ['A8', 'A9', 'A10', 'A11'],\n",
    "    'B': ['B8', 'B9', 'B10', 'B11'],\n",
    "    'C': ['C8', 'C9', 'C10', 'C11'],\n",
    "    'E': ['D8', 'D9', 'D10', 'D11']\n",
    "}, index=[8, 9, 10, 11])"
   ]
  },
  {
   "cell_type": "code",
   "execution_count": null,
   "metadata": {
    "slideshow": {
     "slide_type": "subslide"
    }
   },
   "outputs": [],
   "source": [
    "df1"
   ]
  },
  {
   "cell_type": "code",
   "execution_count": null,
   "metadata": {
    "slideshow": {
     "slide_type": "subslide"
    }
   },
   "outputs": [],
   "source": [
    "# if you don't specify an axis, it defaults to axis=0, which means it appends to rows\n",
    "pd.concat([df1, df2, df3])"
   ]
  },
  {
   "cell_type": "code",
   "execution_count": null,
   "metadata": {
    "slideshow": {
     "slide_type": "subslide"
    }
   },
   "outputs": [],
   "source": [
    "# axis=1 means concat along columns\n",
    "\n",
    "pd.concat([df1, df2, df3], axis=1)"
   ]
  },
  {
   "cell_type": "markdown",
   "metadata": {
    "slideshow": {
     "slide_type": "subslide"
    }
   },
   "source": [
    "## Join\n",
    "***\n",
    "Simply join two DFs having potentially different row indices"
   ]
  },
  {
   "cell_type": "code",
   "execution_count": null,
   "metadata": {
    "slideshow": {
     "slide_type": "fragment"
    }
   },
   "outputs": [],
   "source": [
    "# Join\n",
    "left_df = pd.DataFrame({\n",
    "    'A': ['A0', 'A1', 'A2'],\n",
    "    'B': ['B0', 'B1', 'B2']\n",
    "}, index=['K0', 'K1', 'K2']) \n",
    "\n",
    "right_df = pd.DataFrame({\n",
    "    'C': ['C0', 'C2', 'C3'],\n",
    "    'D': ['D0', 'D2', 'D3']\n",
    "}, index=['K0', 'K2', 'K3'])\n",
    "\n",
    "left_df.join(right_df, how='outer')"
   ]
  },
  {
   "cell_type": "markdown",
   "metadata": {
    "slideshow": {
     "slide_type": "subslide"
    }
   },
   "source": [
    "## Merge"
   ]
  },
  {
   "cell_type": "code",
   "execution_count": null,
   "metadata": {
    "slideshow": {
     "slide_type": "fragment"
    }
   },
   "outputs": [],
   "source": [
    "# Merging on multiple keys\n",
    "left = pd.DataFrame({\n",
    "    'key1': ['K0', 'K0', 'K1', 'K2'],\n",
    "    'key2': ['K0', 'K1', 'K0', 'K1'],\n",
    "    'A': ['A0', 'A1', 'A2', 'A3'],\n",
    "    'B': ['B0', 'B1', 'B2', 'B3']\n",
    "})\n",
    "    \n",
    "right = pd.DataFrame({\n",
    "    'key1': ['K0', 'K1', 'K1', 'K2'],\n",
    "    'key2': ['K0', 'K0', 'K0', 'K0'],\n",
    "    'C': ['C0', 'C1', 'C2', 'C3'],\n",
    "    'D': ['D0', 'D1', 'D2', 'D3']\n",
    "})\n",
    "\n",
    "pd.merge(left, right, how='outer', on=['key1', 'key2'])"
   ]
  },
  {
   "cell_type": "code",
   "execution_count": null,
   "metadata": {
    "slideshow": {
     "slide_type": "subslide"
    }
   },
   "outputs": [],
   "source": [
    "# other options are 'inner', 'left', 'right'\n",
    "\n",
    "pd.merge(left, right, how='left', on=['key1', 'key2'])"
   ]
  },
  {
   "cell_type": "markdown",
   "metadata": {
    "slideshow": {
     "slide_type": "slide"
    }
   },
   "source": [
    "# Further Reading\n",
    "***\n",
    "- Pandas documentation: http://pandas.pydata.org/"
   ]
  },
  {
   "cell_type": "markdown",
   "metadata": {
    "slideshow": {
     "slide_type": "slide"
    }
   },
   "source": [
    "<img src=\"../images/icon/Recap.png\" alt=\"Recap\" style=\"width: 100px;float:left; margin-right:15px\"/>\n",
    "<br />\n",
    "# In-session Recap Time\n",
    "***\n",
    "- Creating DataFrames: Manually and from files\n",
    "- Analzing DataFrame\n",
    "- Data Manipulation and Transformations\n",
    "    - Filtering\n",
    "    - Selection\n",
    "    - Working with Coloumns\n",
    "    - Sorting\n",
    "    - Pivot Tables and GroupBy\n",
    "    - Merging Data"
   ]
  },
  {
   "cell_type": "markdown",
   "metadata": {
    "collapsed": true,
    "slideshow": {
     "slide_type": "slide"
    }
   },
   "source": [
    "# Thank You\n",
    "***\n",
    "### Coming up next...\n",
    "***\n",
    "- Visualizing data using `matplotlib`\n",
    "- Getting started with Machine Learning\n",
    "\n",
    "For more queries - Reach out to academics@greyatom.com "
   ]
  }
 ],
 "metadata": {
  "celltoolbar": "Slideshow",
  "kernelspec": {
   "display_name": "Python 2",
   "language": "python",
   "name": "python2"
  },
  "language_info": {
   "codemirror_mode": {
    "name": "ipython",
    "version": 2
   },
   "file_extension": ".py",
   "mimetype": "text/x-python",
   "name": "python",
   "nbconvert_exporter": "python",
   "pygments_lexer": "ipython2",
   "version": "2.7.13"
  },
  "toc": {
   "colors": {
    "hover_highlight": "#DAA520",
    "running_highlight": "#FF0000",
    "selected_highlight": "#FFD700"
   },
   "moveMenuLeft": true,
   "nav_menu": {
    "height": "364px",
    "width": "252px"
   },
   "navigate_menu": true,
   "number_sections": true,
   "sideBar": true,
   "threshold": "2",
   "toc_cell": false,
   "toc_section_display": "block",
   "toc_window_display": false
  }
 },
 "nbformat": 4,
 "nbformat_minor": 2
}
